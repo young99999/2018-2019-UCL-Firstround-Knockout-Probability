import itertools
 
class team:
    
    def __init__(self, teamName="", teamGroup="", teamCountry="", teamRanking="1"):
        self.name = teamName
        self.group = teamGroup
        self.country = teamCountry
        self.ranking = teamRanking
    
    def printTeam(self):
        print (self.name, "-",  self.country, "-", self.group+self.ranking)
    

# check validation
def isDrawValid(list1, list2):
    for i in range(0,8):
        if (list2[i].group == list1[i].group) or (list2[i].country == list1[i].country):
            return False
    return True
 
 
def getProbabilityByTeam(list1, list2, allResult2, index):
    print (list1[index].name)
    print ("")
    totalCount = 0
    proList = {
               list2[0].name:0, list2[1].name:0, list2[2].name:0, list2[3].name:0, \
               list2[4].name:0, list2[5].name:0, list2[6].name:0, list2[7].name:0
               }
    for someResult in allResult2:
        if isDrawValid(list1, someResult):
            totalCount += 1
            proList[someResult[index].name] += 1
        else:
            pass
    for i in range(0, 8):
        print ("draw: ", list2[i].name, " probability: ", round(proList[list2[i].name]*1.00/totalCount, 4))
        print ("")

        
# define teams
dortmund = team("Dortmund", "A", "Germany", "1")
barcelona = team("Barcelona", "B", "Spain", "1")
paris = team("PSG", "C", "France", "1")
porto = team("Porto", "D", "Portugal", "1")
bayernmunich = team("Bayern Munich", "E", "Germany", "1")
mancity = team("Man City", "F", "England", "1")
realmadrid = team("Real Madrid", "G", "Spain", "1")
juventus = team("Juventus", "H", "Italy", "1")
atmadrid = team("A.T.Madrid", "A", "Spain", "2")
hotspur = team("Hotspur", "B", "England", "2")
liverpool = team("Liverpool", "C", "England", "2")
schalke = team("Schalke", "D", "Germany", "2")
ajax = team("Ajax", "E", "Holland", "2")
lyon = team("Lyon", "F", "France", "2")
roma = team("Roma", "G", "Italy", "2")
manu = team("Man United", "H", "England", "2")
 
listFirst = [dortmund,barcelona,paris,porto,bayernmunich,mancity,realmadrid,juventus]
listSecond = [atmadrid,hotspur,liverpool,schalke,ajax,lyon,roma,manu]
firstAllResult = list(itertools.permutations(listFirst, len(listFirst)))
secondAllResult = list(itertools.permutations(listSecond, len(listSecond)))
 
 
def main():
    for i in range(0, 8):
        getProbabilityByTeam(listFirst, listSecond, secondAllResult, i)
    for j in range(0, 8):
        getProbabilityByTeam(listSecond, listFirst, firstAllResult, j)
 
 
main()
